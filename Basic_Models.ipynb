{
 "cells": [
  {
   "cell_type": "markdown",
   "metadata": {},
   "source": [
    "# Basic Logistic Regression (Lasso)"
   ]
  },
  {
   "cell_type": "code",
   "execution_count": 1,
   "metadata": {},
   "outputs": [],
   "source": [
    "import pandas as pd\n",
    "from sklearn.linear_model import LogisticRegression\n",
    "\n",
    "train = pd.read_csv(\"train.csv\").drop('id', axis=1)\n",
    "train_label = train['target']\n",
    "\n",
    "train = train.drop('target', axis=1)\n",
    "\n",
    "test = pd.read_csv('test.csv')\n",
    "test = test.drop('id', axis = 1)\n",
    "\n",
    "submission = pd.read_csv('sample_submission.csv')\n",
    "\n",
    "clf = LogisticRegression(class_weight='balanced', penalty='l1', C=0.1, solver='liblinear').fit(train, train_label)\n",
    "\n",
    "submission['target'] = clf.predict_proba(test)[:,1]\n",
    "submission.to_csv('submission/basic_logistic_lasso.csv', index=False)"
   ]
  },
  {
   "cell_type": "markdown",
   "metadata": {},
   "source": [
    "#### score : 0.844"
   ]
  },
  {
   "cell_type": "markdown",
   "metadata": {},
   "source": [
    "# Basic SVM"
   ]
  },
  {
   "cell_type": "code",
   "execution_count": 3,
   "metadata": {},
   "outputs": [],
   "source": [
    "from sklearn.svm import SVC\n",
    "\n",
    "svc = SVC(kernel='linear', probability=True, C=0.1)\n",
    "svc.fit(train, train_label)\n",
    "\n",
    "submission['target'] = svc.predict_proba(test)[:,1]\n",
    "submission.to_csv('submission/basic_svc.csv', index=False)"
   ]
  },
  {
   "cell_type": "markdown",
   "metadata": {},
   "source": [
    "#### score : 0.731"
   ]
  },
  {
   "cell_type": "markdown",
   "metadata": {},
   "source": [
    "# Basic XGBoost"
   ]
  },
  {
   "cell_type": "code",
   "execution_count": 5,
   "metadata": {},
   "outputs": [],
   "source": [
    "import xgboost as xgb\n",
    "\n",
    "xgb = xgb.XGBClassifier()\n",
    "xgb.fit(train, train_label)\n",
    "\n",
    "submission['target'] = xgb.predict_proba(test)[:,1]\n",
    "submission.to_csv('submission/basic_xgb.csv', index=False)"
   ]
  },
  {
   "cell_type": "markdown",
   "metadata": {},
   "source": [
    "#### score: 0.787"
   ]
  },
  {
   "cell_type": "markdown",
   "metadata": {},
   "source": [
    "# Basic Gradient Boosting"
   ]
  },
  {
   "cell_type": "code",
   "execution_count": 7,
   "metadata": {},
   "outputs": [],
   "source": [
    "from sklearn.ensemble import GradientBoostingClassifier\n",
    "\n",
    "gbc = GradientBoostingClassifier()\n",
    "gbc.fit(train, train_label)\n",
    "\n",
    "submission['target'] = gbc.predict_proba(test)[:,1]\n",
    "submission.to_csv('submission/basic_gbc.csv', index=False)"
   ]
  },
  {
   "cell_type": "markdown",
   "metadata": {},
   "source": [
    "#### socre : 0.749"
   ]
  },
  {
   "cell_type": "code",
   "execution_count": null,
   "metadata": {},
   "outputs": [],
   "source": []
  }
 ],
 "metadata": {
  "kernelspec": {
   "display_name": "Python 3",
   "language": "python",
   "name": "python3"
  },
  "language_info": {
   "codemirror_mode": {
    "name": "ipython",
    "version": 3
   },
   "file_extension": ".py",
   "mimetype": "text/x-python",
   "name": "python",
   "nbconvert_exporter": "python",
   "pygments_lexer": "ipython3",
   "version": "3.6.5"
  }
 },
 "nbformat": 4,
 "nbformat_minor": 2
}
